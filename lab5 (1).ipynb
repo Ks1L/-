{
  "nbformat": 4,
  "nbformat_minor": 0,
  "metadata": {
    "colab": {
      "name": "legalova-sem5.ipynb",
      "provenance": [],
      "collapsed_sections": []
    },
    "kernelspec": {
      "name": "python3",
      "display_name": "Python 3"
    },
    "language_info": {
      "name": "python"
    }
  },
  "cells": [
    {
      "cell_type": "markdown",
      "source": [
        "Задача 1\n"
      ],
      "metadata": {
        "id": "PDBWwhXEV0DP"
      }
    },
    {
      "cell_type": "code",
      "execution_count": 2,
      "metadata": {
        "id": "Pl4GIlUTVoSw",
        "colab": {
          "base_uri": "https://localhost:8080/"
        },
        "outputId": "115de8e9-141d-45bd-f98e-c288a78a6ded"
      },
      "outputs": [
        {
          "output_type": "stream",
          "name": "stdout",
          "text": [
            "Введите число10\n",
            "100\n"
          ]
        }
      ],
      "source": [
        "a = int(input('Введите число'))\n",
        "a = (a**2)\n",
        "print(a)"
      ]
    },
    {
      "cell_type": "code",
      "source": [
        "a = int(input('Введите число'))\n",
        "a = (a**2)\n",
        "print(\"Квадрат числа равен: n\")"
      ],
      "metadata": {
        "id": "gYxf8H_5aKxB"
      },
      "execution_count": null,
      "outputs": []
    },
    {
      "cell_type": "code",
      "source": [
        "a = int(input('Введите число'))\n",
        "a = (a**2)\n",
        "print('Квадрат числа равен:', (a))"
      ],
      "metadata": {
        "id": "4zVRtRBEaKjN"
      },
      "execution_count": null,
      "outputs": []
    },
    {
      "cell_type": "markdown",
      "source": [
        "Задача 2\n"
      ],
      "metadata": {
        "id": "z9K2QbZYWII5"
      }
    },
    {
      "cell_type": "code",
      "source": [
        "a = int(input())\n",
        "d = []\n",
        "b=a-1\n",
        "d.append(b)\n",
        "c=a+1\n",
        "d.append(c)\n",
        "print(d)"
      ],
      "metadata": {
        "id": "a00ZsPxNWlIy"
      },
      "execution_count": null,
      "outputs": []
    },
    {
      "cell_type": "markdown",
      "source": [
        "Задача 3\n"
      ],
      "metadata": {
        "id": "iNEyTrdHWThb"
      }
    },
    {
      "cell_type": "code",
      "source": [
        "a = str(input())\n",
        "b = []\n",
        "a = a.lower()\n",
        "b = a.split()\n",
        "print(b)"
      ],
      "metadata": {
        "id": "gLW2k1lwWlwp"
      },
      "execution_count": null,
      "outputs": []
    },
    {
      "cell_type": "markdown",
      "source": [
        "Задача 4\n"
      ],
      "metadata": {
        "id": "KxO2rVDsWkYx"
      }
    },
    {
      "cell_type": "code",
      "source": [
        "import math\n",
        "a = [1, 3, 2.5, -1, 9, 0, 2.71]\n",
        "b = []\n",
        "def my_log():\n",
        "  for i in a:\n",
        "   if i <= 0:\n",
        "     b.append('None')\n",
        "   else:\n",
        "      b.append(math.log(i))\n",
        "  return b\n",
        "print(my_log())"
      ],
      "metadata": {
        "id": "mnqK961sWx1Z"
      },
      "execution_count": null,
      "outputs": []
    },
    {
      "cell_type": "markdown",
      "source": [
        "Задача 5\n"
      ],
      "metadata": {
        "id": "ZlrwDQ65WyOp"
      }
    },
    {
      "cell_type": "code",
      "source": [
        "Names = input('Введите имена людей через пробел: ').split()\n",
        "Age = []\n",
        "a = input('Введите возраст людей через пробел: ').split()\n",
        "b = {}\n",
        "def Name_Age():\n",
        "  for n in a:\n",
        "      Age.append(int(n))\n",
        "  if len(Names) != len(Age):\n",
        "      print('Списки имеют разную длину')\n",
        "  else:\n",
        "      for i in range(0, len(Names)):\n",
        "        b[Names[i]] = Age[i]\n",
        "  return b\n",
        "print(Name_Age())"
      ],
      "metadata": {
        "id": "6783DQLrW3s2"
      },
      "execution_count": null,
      "outputs": []
    },
    {
      "cell_type": "markdown",
      "source": [
        "Задача 6\n"
      ],
      "metadata": {
        "id": "m445u9KTW4A9"
      }
    },
    {
      "cell_type": "code",
      "source": [
        "a = input('Введите список целых чисел через запятую и пробел (1, 2 и т.д.): ').split(', ')\n",
        "a1 = []\n",
        "for n in a:\n",
        "    a1.append(int(n))\n",
        "def all_sort():\n",
        "  a1.sort()\n",
        "  return a1\n",
        "print(all_sort())"
      ],
      "metadata": {
        "id": "IOuLi_kkXAYP"
      },
      "execution_count": null,
      "outputs": []
    }
  ]
}