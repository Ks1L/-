{
  "cells": [
    {
      "cell_type": "markdown",
      "metadata": {
        "id": "hPyhwXpf6J00"
      },
      "source": [
        "### Задание 0 (вычислительное)\n",
        "\n",
        "Посчитайте:\n",
        "\n",
        "* $log(25)$, $log(exp(3))$, $log_{10}1000$\n",
        "* $\\pi^3$, $123^4$ \n",
        "* $\\sqrt{459}$\n",
        "\n"
      ]
    },
    {
      "cell_type": "code",
      "source": [
        "import math\n",
        "print (math.log(25));\n",
        "print (math.log(math.exp(3)));\n",
        "print (math.log10(1000));\n",
        "\n",
        "print (math.pi**3);\n",
        "print (123**4);\n",
        "\n",
        "print (math.sqrt(459));"
      ],
      "metadata": {
        "colab": {
          "base_uri": "https://localhost:8080/"
        },
        "id": "tOt_7aIR8dk2",
        "outputId": "119886b2-2250-43d6-cf65-614501f9629f"
      },
      "execution_count": null,
      "outputs": [
        {
          "output_type": "stream",
          "name": "stdout",
          "text": [
            "3.2188758248682006\n",
            "3.0\n",
            "3.0\n",
            "31.006276680299816\n",
            "228886641\n",
            "21.42428528562855\n"
          ]
        }
      ]
    },
    {
      "cell_type": "markdown",
      "metadata": {
        "id": "z1pTQiTQ6J02"
      },
      "source": [
        "### Задание 1 (стартовое)\n",
        "\n",
        "В переменных `a` и `b` хранятся некоторые числа. Напишите код, который бы менял значения переменных местами. Создавать новые переменные можно. \n",
        "\n",
        "**Пример:**"
      ]
    },
    {
      "cell_type": "code",
      "execution_count": null,
      "metadata": {
        "id": "H_AhnpBz6J03"
      },
      "outputs": [],
      "source": [
        "# до\n",
        "a = 2\n",
        "b = 5"
      ]
    },
    {
      "cell_type": "code",
      "execution_count": null,
      "metadata": {
        "id": "QklYghMd6J04"
      },
      "outputs": [],
      "source": [
        "temp=a\n",
        "a=b\n",
        "b=temp"
      ]
    },
    {
      "cell_type": "code",
      "execution_count": null,
      "metadata": {
        "id": "xDLIUt5W6J04",
        "colab": {
          "base_uri": "https://localhost:8080/"
        },
        "outputId": "4748b747-b132-428d-f59c-fce547fa9a1b"
      },
      "outputs": [
        {
          "output_type": "stream",
          "name": "stdout",
          "text": [
            "5\n",
            "2\n"
          ]
        }
      ],
      "source": [
        "# после\n",
        "print(a)\n",
        "print(b)"
      ]
    },
    {
      "cell_type": "markdown",
      "metadata": {
        "id": "YtMeuj0K6J05"
      },
      "source": [
        "### Задание 2 (арифметическое)\n",
        "\n",
        "В переменных `a`, `b`, `c` хранятся какие-то числа. Напишите программу, которая считает их среднее арифметическое."
      ]
    },
    {
      "cell_type": "code",
      "execution_count": null,
      "metadata": {
        "id": "M8K4A4m76J05"
      },
      "outputs": [],
      "source": [
        "a = 1\n",
        "b = 2\n",
        "c = 3"
      ]
    },
    {
      "cell_type": "code",
      "execution_count": null,
      "metadata": {
        "id": "fumvnTdJ6J05",
        "colab": {
          "base_uri": "https://localhost:8080/"
        },
        "outputId": "32c8e106-90f7-4f82-c2a6-656b3270bb89"
      },
      "outputs": [
        {
          "output_type": "stream",
          "name": "stdout",
          "text": [
            "2.0\n"
          ]
        }
      ],
      "source": [
        "import numpy\n",
        "listnumbers = [1, 2, 3]\n",
        "print (numpy.mean(listnumbers))"
      ]
    },
    {
      "cell_type": "markdown",
      "metadata": {
        "id": "NVBi-B8Q6J06"
      },
      "source": [
        "### Задание 3 (экономическое)\n",
        "\n",
        "Напишите программу, которая логарифмирует значение ВВП, которое хранится в переменной `gdp` и округляет результат до второго знака после запятой."
      ]
    },
    {
      "cell_type": "code",
      "source": [
        "gdp = 106606600\n",
        "import math\n",
        "round (math.log(gdp), 2)"
      ],
      "metadata": {
        "colab": {
          "base_uri": "https://localhost:8080/"
        },
        "id": "DfQpHgKY_elL",
        "outputId": "fccd93a1-63fa-45c1-e350-9a17aeee0a35"
      },
      "execution_count": null,
      "outputs": [
        {
          "output_type": "execute_result",
          "data": {
            "text/plain": [
              "18.48"
            ]
          },
          "metadata": {},
          "execution_count": 42
        }
      ]
    },
    {
      "cell_type": "markdown",
      "metadata": {
        "id": "0hcziLQH6J06"
      },
      "source": [
        "###  Задание 3 (финансовое)\n",
        "\n",
        "В переменной `salary` хранится значение заработной платы респондента в рублях (можете сами присвоить `salary` какое-нибудь значение).\n",
        "\n",
        "Напишите программу, которая выражает заработную плату респондента в тысячах рублей и\n",
        "\n",
        "a) просто выводит результат перевода в тысячи на экран;\n",
        "\n",
        "б) просто сохраняет результат в переменную `salary_th`;\n",
        "\n",
        "в) сохраняет результат в переменную `salary_th` и выводит результат на экран."
      ]
    },
    {
      "cell_type": "code",
      "source": [
        "salary = 10000;\n",
        "x = salary/1000;\n",
        "print (x)"
      ],
      "metadata": {
        "colab": {
          "base_uri": "https://localhost:8080/"
        },
        "id": "GH8M2NGTBZr3",
        "outputId": "81d9f6ef-82f4-498b-f186-58e2a3cfe27a"
      },
      "execution_count": null,
      "outputs": [
        {
          "output_type": "stream",
          "name": "stdout",
          "text": [
            "10.0\n"
          ]
        }
      ]
    },
    {
      "cell_type": "code",
      "source": [
        "salary = 10000;\n",
        "salary_th = 0;\n",
        "x = salary/1000;\n",
        "x = salary_th"
      ],
      "metadata": {
        "id": "TiRZT4UxFMb6"
      },
      "execution_count": null,
      "outputs": []
    },
    {
      "cell_type": "code",
      "source": [
        "salary = 10000;\n",
        "salary_th = salary/1000;\n",
        "print (salary_th)"
      ],
      "metadata": {
        "colab": {
          "base_uri": "https://localhost:8080/"
        },
        "id": "Tc_v5bhYFdT6",
        "outputId": "770c79cd-045f-4d21-9487-9864eef1afd4"
      },
      "execution_count": null,
      "outputs": [
        {
          "output_type": "stream",
          "name": "stdout",
          "text": [
            "10.0\n"
          ]
        }
      ]
    },
    {
      "cell_type": "markdown",
      "metadata": {
        "id": "SZF-GVSt6J07"
      },
      "source": [
        "### Задание 4 (политологическое)\n",
        "\n",
        "В переменной `fh` хранится значение индекса политической свободы Freedom House, а в переменной `p`\n",
        "значение индекса Polity IV. Напишите программу, которая будет считать индекс Freedom:\n",
        "\n",
        "$Freedom = 0.4 \\cdot Freedom House + 0.6 \\cdot Polity IV$."
      ]
    },
    {
      "cell_type": "code",
      "source": [
        "fh = 30;\n",
        "p = 4;\n",
        "Freedom = 0.4 * fh + 0.6 * p;\n",
        "print (Freedom)"
      ],
      "metadata": {
        "colab": {
          "base_uri": "https://localhost:8080/"
        },
        "id": "D6ioCwI9F4kG",
        "outputId": "65000b93-4273-437b-cfb9-9a8d781d90a9"
      },
      "execution_count": null,
      "outputs": [
        {
          "output_type": "stream",
          "name": "stdout",
          "text": [
            "14.4\n"
          ]
        }
      ]
    },
    {
      "cell_type": "markdown",
      "metadata": {
        "id": "biILPu3Q6J07"
      },
      "source": [
        "### Задание 5 (налоговое)\n",
        "\n",
        "Напишите программу, которая запрашивает у пользователя с клавиатуры\n",
        "изначальное значение заработной платы в рублях и выводит на экран сообщение: \n",
        "\n",
        "    Ваша заработная плата с учетом подоходного налога: n рублей.\n",
        "\n",
        "где `n` ‒ значение заработной платы с учетом подоходного налога (налоговая ставка 13%).\n",
        "\n",
        "Подсказка: для ввода информации с клавиатуры используйте функцию `input()`. Не забудьте учесть, что результат, который вводится через `input()` является строкой, а не числом. Примеры использования `input()` и более подробное знакомство с вводом-выводом в Python – см. [здесь](https://nbviewer.jupyter.org/github/allatambov/Py-programming-3/blob/master/06-04/lecture-input-output.ipynb)."
      ]
    },
    {
      "cell_type": "code",
      "source": [
        "zp = int(input('Введите зп без учёта налога'));\n",
        "n = (zp - (zp/100 * 13));\n",
        "n = str(n);\n",
        "print (f\"Ваша заработная плата с учетом подоходного налога: \" + n + \" рублей.\")\n"
      ],
      "metadata": {
        "colab": {
          "base_uri": "https://localhost:8080/"
        },
        "id": "EofEXw_TG8dD",
        "outputId": "235d514d-581b-44be-dc99-5f9f00a5c8ba"
      },
      "execution_count": null,
      "outputs": [
        {
          "output_type": "stream",
          "name": "stdout",
          "text": [
            "Введите зп без учёта налога10000000000\n",
            "Ваша заработная плата с учетом подоходного налога: 8700000000.0 рублей.\n"
          ]
        }
      ]
    },
    {
      "cell_type": "markdown",
      "metadata": {
        "id": "1C6XTAj76J07"
      },
      "source": [
        "### Задание 6 (весеннее)\n",
        "\n",
        "С приходом весны питон решил каждый день выползать погреться на солнышко. Однако он знал, что солнце весной довольно активное, и поэтому разработал такую схему: в первый день он греется одну минуту, а в каждый последующий день увеличивает время пребывания на солнце на 3 минуты. Напишите код, который позволит вычислять, сколько минут питон будет тратить на солнечные ванны в некоторый выбранный день.\n",
        "\n",
        "*Внимание:* ваш код должен выводить номер дня и число минут. Использовать циклы нельзя, в задании предполагается многократный запуск ячеек с кодом."
      ]
    },
    {
      "cell_type": "code",
      "source": [
        "m = 3 # 3 минуты\n",
        "d = 1 # день 1,  1 минута \n",
        "i = 1 # номер дня, когда питон вылез\n",
        "dnext = d + 1 # день 2 \n",
        "i = i + 1 # перешли ко второму дню, увеличили i на 1\n",
        "res = dnext + i # в следующий день пробегаем столько же, сколько за два предыдущих\n",
        "bnext = res   # запомнили полученное значение res\n",
        "print(i, bnext) # выводим на экран номер дня и расстояние, которое нужно пробежать\n"
      ],
      "metadata": {
        "id": "TsmZHzXDNIJ4"
      },
      "execution_count": null,
      "outputs": []
    },
    {
      "cell_type": "code",
      "source": [
        "a = int(input('Введите номер дня'));\n",
        "a = i\n",
        "m = 3 # 3 минуты\n",
        "i = 1 # номер дня, когда питон вылез\n",
        "d = 1 # день 1,  1 минута\n",
        "dnext = d + m # день 2 \n",
        "i = i + 1 # перешли ко второму дню, увеличили i на 1\n",
        "print(i, dnext) # выводим на экран номер дня и расстояние, которое нужно пробежать"
      ],
      "metadata": {
        "colab": {
          "base_uri": "https://localhost:8080/"
        },
        "id": "vJ14YHPpQm71",
        "outputId": "bb7dd336-0e06-4d95-c2bc-008072520130"
      },
      "execution_count": 94,
      "outputs": [
        {
          "output_type": "stream",
          "name": "stdout",
          "text": [
            "2 4\n"
          ]
        }
      ]
    },
    {
      "cell_type": "code",
      "source": [
        "i = int(input('Введите номер дня'));\n",
        "d = (i * 3 - 1);\n",
        "i = str(i);\n",
        "d = str(d);\n",
        "print (f\"Минуты \" + d + \"\")\n",
        "print (f\"День \" + i + \"\")\n"
      ],
      "metadata": {
        "colab": {
          "base_uri": "https://localhost:8080/"
        },
        "id": "7I0R_d6GR8wQ",
        "outputId": "dadae4ec-686b-4d71-80b3-5a1c714b2307"
      },
      "execution_count": 107,
      "outputs": [
        {
          "output_type": "stream",
          "name": "stdout",
          "text": [
            "Введите номер дня10\n",
            "Минуты 29\n",
            "День 10\n"
          ]
        }
      ]
    },
    {
      "cell_type": "markdown",
      "metadata": {
        "id": "f9xfge5j6J08"
      },
      "source": [
        "### Задание 7 (цифровое)\n",
        "\n",
        "Питон выполз на улицу погулять и решил поиграть: просил прохожих назвать какую-нибудь цифру (т.е. ввести ее с клавиатуры) и приписывал эту цифру к цифре, которую назвал предыдущий прохожий. Напишите код, который позволит определить, какое число получится после опроса 4 прохожих, если известно, что первый прохожий назвал цифру 5. \n",
        "Задача не подразумевает использование циклов; запускать код несколько раз / копировать ячейки можно.\n",
        "\n",
        "*Пример-пояснение:* первый назвал цифру 5, второй ‒ цифру 6, третий ‒ 3. Получили число 563.\n",
        "\n",
        "*Подсказка:* для склеивания строк (такая операция называется конкатенацией) в Python используется `+`:"
      ]
    },
    {
      "cell_type": "code",
      "source": [
        "a = input('Первый прохожий: ')\n",
        "b = input('Второй прохожий: ')\n",
        "c = input('Третий прохожий: ')\n",
        "d = input('Четвёртый прохожий: ')\n",
        "print(int(a + b + c + d))"
      ],
      "metadata": {
        "colab": {
          "base_uri": "https://localhost:8080/"
        },
        "id": "yvH5mOpiTWEL",
        "outputId": "88c3a84e-d6ac-47b7-deda-ca68646a19fa"
      },
      "execution_count": 101,
      "outputs": [
        {
          "output_type": "stream",
          "name": "stdout",
          "text": [
            "Первый прохожий: 5\n",
            "Второй прохожий: 6\n",
            "Третий прохожий: 3\n",
            "Четвёртый прохожий: 1\n",
            "5631\n"
          ]
        }
      ]
    },
    {
      "cell_type": "code",
      "execution_count": null,
      "metadata": {
        "id": "C5XtcyEe6J08"
      },
      "outputs": [],
      "source": [
        "a = \"pass\"\n",
        "b = \"word\"\n",
        "\n",
        "print(a + b)"
      ]
    }
  ],
  "metadata": {
    "kernelspec": {
      "display_name": "Python 3",
      "language": "python",
      "name": "python3"
    },
    "language_info": {
      "codemirror_mode": {
        "name": "ipython",
        "version": 3
      },
      "file_extension": ".py",
      "mimetype": "text/x-python",
      "name": "python",
      "nbconvert_exporter": "python",
      "pygments_lexer": "ipython3",
      "version": "3.6.5"
    },
    "colab": {
      "name": "1 - seminar1.ipynb",
      "provenance": [],
      "collapsed_sections": []
    }
  },
  "nbformat": 4,
  "nbformat_minor": 0
}